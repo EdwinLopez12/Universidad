{
 "cells": [
  {
   "cell_type": "code",
   "execution_count": 155,
   "metadata": {},
   "outputs": [],
   "source": [
    "import matplotlib.pyplot as plt\n",
    "import numpy as np"
   ]
  },
  {
   "cell_type": "code",
   "execution_count": 228,
   "metadata": {},
   "outputs": [],
   "source": [
    "x_n = [0, -2, -2, -2]\n",
    "y_n = [2, 2, 0, -2]\n",
    "x_a = [2, 2, 2, 0]\n",
    "y_a = [2, 0, -2 , -2]\n",
    "x1=3\n",
    "y1=4.5\n"
   ]
  },
  {
   "cell_type": "code",
   "execution_count": 229,
   "metadata": {},
   "outputs": [
    {
     "data": {
      "image/png": "[encoded data removed]",
      "text/plain": [
       "<Figure size 432x288 with 1 Axes>"
      ]
     },
     "metadata": {
      "needs_background": "light"
     },
     "output_type": "display_data"
    }
   ],
   "source": [
    "plt.plot(x_n,y_n,  linestyle=\"none\", marker=\"o\", color=\"orange\", label=\"Naranja\")\n",
    "plt.plot(x_a,y_a,  linestyle=\"none\", marker=\"o\", color=\"blue\", label=\"Azul\")\n",
    "plt.legend(loc=10)\n",
    "plt.grid()\n",
    "plt.show()"
   ]
  },
  {
   "cell_type": "code",
   "execution_count": 230,
   "metadata": {},
   "outputs": [],
   "source": [
    "x = [-3, 3, 0]\n",
    "y = [-4.5, 4.5, 0]"
   ]
  },
  {
   "cell_type": "code",
   "execution_count": 231,
   "metadata": {},
   "outputs": [
    {
     "data": {
      "image/png": "[encoded data removed]",
      "text/plain": [
       "<Figure size 432x288 with 1 Axes>"
      ]
     },
     "metadata": {
      "needs_background": "light"
     },
     "output_type": "display_data"
    }
   ],
   "source": [
    "plt.plot(x_n,y_n,  linestyle=\"none\", marker=\"o\", color=\"orange\", label=\"Naranja\")\n",
    "plt.plot(x_a,y_a,  linestyle=\"none\", marker=\"o\", color=\"blue\", label=\"Azul\")\n",
    "plt.plot(x, y, linestyle=\"solid\", marker=\"p\", color=\"Steelblue\")\n",
    "plt.legend(loc=2)\n",
    "plt.grid()\n",
    "plt.show()"
   ]
  },
  {
   "cell_type": "code",
   "execution_count": 236,
   "metadata": {},
   "outputs": [],
   "source": [
    "m = (y[1] - y[0]) / (x[1] - x[0])"
   ]
  },
  {
   "cell_type": "code",
   "execution_count": 237,
   "metadata": {},
   "outputs": [],
   "source": [
    "def funcion_w(m):\n",
    "    return (m*1)"
   ]
  },
  {
   "cell_type": "code",
   "execution_count": 238,
   "metadata": {},
   "outputs": [],
   "source": [
    "b = m*(-x1)+y1\n",
    "w = [funcion_w(m),-1]"
   ]
  },
  {
   "cell_type": "code",
   "execution_count": 239,
   "metadata": {},
   "outputs": [
    {
     "name": "stdout",
     "output_type": "stream",
     "text": [
      "Resultado recta\n",
      "Entradas= 1= [0, -2, -2, -2] [2, 2, 0, -2] 2= [-2] [2] 3= [-2] [0] 4= [-2] [-2] 5=[ 2 2 ] 6= [2] [0] 7= [2] [-2] 8= [0] [-2]\n",
      "Pendiente = 1.5\n",
      "Punto de corte con Y (bias)= 0.0\n",
      "Peso = 1.5 -1\n"
     ]
    }
   ],
   "source": [
    "print(\"Resultado recta\")\n",
    "print(\"Entradas= 1=\",x_n,y_n, \"2=\",x_n1,y_n1, \"3=\",x_n2,y_n2, \"4=\",x_n3,y_n3, \"5=[\",x_a[0],y_a[0], \"] 6=\",x_a1,y_a1, \"7=\",x_a2,y_a2, \"8=\",x_a3,y_a3)\n",
    "print(\"Pendiente =\",m)\n",
    "print(\"Punto de corte con Y (bias)=\",b)\n",
    "print(\"Peso =\",w[0],w[1])\n"
   ]
  },
  {
   "cell_type": "code",
   "execution_count": 240,
   "metadata": {},
   "outputs": [
    {
     "data": {
      "image/png": "[encoded data removed]",
      "text/plain": [
       "<Figure size 432x288 with 1 Axes>"
      ]
     },
     "metadata": {
      "needs_background": "light"
     },
     "output_type": "display_data"
    }
   ],
   "source": [
    "x_n = [0, -2, -2, 2, 2]\n",
    "y_n = [2, 2, 0, 0, 2]\n",
    "\n",
    "x_a = [ -2, 2, 0]\n",
    "y_a = [ -2, -2 , -2]\n",
    "\n",
    "x = [-3, 0, 3]\n",
    "y = [-1, -1, -1]\n",
    "\n",
    "x1=2\n",
    "y1=-1\n",
    "plt.plot(x_n,y_n,  linestyle=\"none\", marker=\"o\", color=\"orange\", label=\"Naranja\")\n",
    "plt.plot(x_a,y_a,  linestyle=\"none\", marker=\"o\", color=\"blue\", label=\"Azul\")\n",
    "plt.plot(x, y, linestyle=\"solid\", marker=\"p\", color=\"Steelblue\")\n",
    "plt.legend(loc=2)\n",
    "plt.grid()\n",
    "plt.show()"
   ]
  },
  {
   "cell_type": "code",
   "execution_count": 241,
   "metadata": {},
   "outputs": [],
   "source": [
    "m = (y[1] - y[0]) / (x[1] - x[0])\n",
    "def funcion_w(m):\n",
    "    return (m*-1)\n",
    "b = m*(-x1)+y1\n",
    "w = [funcion_w(m),1]"
   ]
  },
  {
   "cell_type": "code",
   "execution_count": 242,
   "metadata": {},
   "outputs": [
    {
     "name": "stdout",
     "output_type": "stream",
     "text": [
      "Resultado recta\n",
      "Entradas= 1= [0, -2, -2, 2, 2] [2, 2, 0, 0, 2] 2= [-2] [2] 3= [-2] [0] 4= [-2] [-2] 5=[ -2 -2 ] 6= [2] [0] 7= [2] [-2] 8= [0] [-2]\n",
      "Pendiente = 0.0\n",
      "Punto de corte con Y (bias)= -1.0\n",
      "Peso = -0.0 1\n"
     ]
    }
   ],
   "source": [
    "print(\"Resultado recta\")\n",
    "print(\"Entradas= 1=\",x_n,y_n, \"2=\",x_n1,y_n1, \"3=\",x_n2,y_n2, \"4=\",x_n3,y_n3, \"5=[\",x_a[0],y_a[0], \"] 6=\",x_a1,y_a1, \"7=\",x_a2,y_a2, \"8=\",x_a3,y_a3)\n",
    "print(\"Pendiente =\",m1)\n",
    "print(\"Punto de corte con Y (bias)=\",b1)\n",
    "print(\"Peso =\",w1[0],w1[1])"
   ]
  },
  {
   "cell_type": "code",
   "execution_count": 243,
   "metadata": {},
   "outputs": [
    {
     "data": {
      "image/png": "[encoded data removed]",
      "text/plain": [
       "<Figure size 432x288 with 1 Axes>"
      ]
     },
     "metadata": {
      "needs_background": "light"
     },
     "output_type": "display_data"
    }
   ],
   "source": [
    "x_n = [-2]\n",
    "y_n = [2]\n",
    "\n",
    "x_a = [ -2, 2, 0, 0, -2, 2, 2]\n",
    "y_a = [ -2, -2 , -2, 2, 0, 0, 2]\n",
    "\n",
    "x = [1, -4]\n",
    "y = [4, -1]\n",
    "\n",
    "x1=1\n",
    "y1=4\n",
    "plt.plot(x_n,y_n,  linestyle=\"none\", marker=\"o\", color=\"orange\", label=\"Naranja\")\n",
    "plt.plot(x_a,y_a,  linestyle=\"none\", marker=\"o\", color=\"blue\", label=\"Azul\")\n",
    "plt.plot(x, y, linestyle=\"solid\", marker=\"p\", color=\"Steelblue\")\n",
    "plt.legend(loc=2)\n",
    "plt.grid()\n",
    "plt.show()"
   ]
  },
  {
   "cell_type": "code",
   "execution_count": 244,
   "metadata": {},
   "outputs": [],
   "source": [
    "m = (y[1] - y[0]) / (x[1] - x[0])\n",
    "def funcion_w(m):\n",
    "    return (m*1)\n",
    "b = m*(-x1)+y1\n",
    "w = [funcion_w(m),-1]"
   ]
  },
  {
   "cell_type": "code",
   "execution_count": 245,
   "metadata": {},
   "outputs": [
    {
     "name": "stdout",
     "output_type": "stream",
     "text": [
      "Resultado recta\n",
      "Entradas= 1= [-2] [2] 2= [-2] [2] 3= [-2] [0] 4= [-2] [-2] 5=[ -2 -2 ] 6= [2] [0] 7= [2] [-2] 8= [0] [-2]\n",
      "Pendiente = 1.0\n",
      "Punto de corte con Y (bias)= 3.0\n",
      "Peso = 1.0 -1\n"
     ]
    }
   ],
   "source": [
    "print(\"Resultado recta\")\n",
    "print(\"Entradas= 1=\",x_n,y_n, \"2=\",x_n1,y_n1, \"3=\",x_n2,y_n2, \"4=\",x_n3,y_n3, \"5=[\",x_a[0],y_a[0], \"] 6=\",x_a1,y_a1, \"7=\",x_a2,y_a2, \"8=\",x_a3,y_a3)\n",
    "print(\"Pendiente =\",m)\n",
    "print(\"Punto de corte con Y (bias)=\",b)\n",
    "print(\"Peso =\",w[0],w[1])"
   ]
  },
  {
   "cell_type": "code",
   "execution_count": null,
   "metadata": {},
   "outputs": [],
   "source": []
  },
  {
   "cell_type": "code",
   "execution_count": null,
   "metadata": {},
   "outputs": [],
   "source": []
  },
  {
   "cell_type": "code",
   "execution_count": null,
   "metadata": {},
   "outputs": [],
   "source": []
  }
 ],
 "metadata": {
  "kernelspec": {
   "display_name": "Python 3",
   "language": "python",
   "name": "python3"
  },
  "language_info": {
   "codemirror_mode": {
    "name": "ipython",
    "version": 3
   },
   "file_extension": ".py",
   "mimetype": "text/x-python",
   "name": "python",
   "nbconvert_exporter": "python",
   "pygments_lexer": "ipython3",
   "version": "3.7.3"
  }
 },
 "nbformat": 4,
 "nbformat_minor": 4
}
