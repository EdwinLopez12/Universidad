{
 "cells": [
  {
   "cell_type": "code",
   "execution_count": 1,
   "metadata": {},
   "outputs": [
    {
     "data": {
      "text/plain": [
       "<Figure size 640x480 with 1 Axes>"
      ]
     },
     "metadata": {},
     "output_type": "display_data"
    }
   ],
   "source": [
    "import matplotlib.pyplot as plt\n",
    "import numpy as np\n",
    "\n",
    "\n",
    "x_n = [0, 0, -1]\n",
    "y_n = [0, 1, 1]\n",
    "\n",
    "x_a = [1, 2, 1]\n",
    "y_a = [-1, -1, -2]\n",
    "x1=2\n",
    "y1=1\n",
    "\n",
    "plt.plot(x_n,y_n,  linestyle=\"none\", marker=\"o\", color=\"green\", label=\"green\")\n",
    "plt.plot(x_a,y_a,  linestyle=\"none\", marker=\"o\", color=\"purple\", label=\"purple\")\n",
    "plt.legend(loc=6)\n",
    "plt.grid()\n",
    "plt.show()"
   ]
  },
  {
   "cell_type": "code",
   "execution_count": 2,
   "metadata": {},
   "outputs": [
    {
     "data": {
      "image/png": "[encoded data removed]",
      "text/plain": [
       "<Figure size 432x288 with 1 Axes>"
      ]
     },
     "metadata": {
      "needs_background": "light"
     },
     "output_type": "display_data"
    }
   ],
   "source": [
    "x = [4,-4]\n",
    "y = [3, -5]\n",
    "\n",
    "plt.plot(x_n,y_n,  linestyle=\"none\", marker=\"o\", color=\"green\", label=\"green\")\n",
    "plt.plot(x_a,y_a,  linestyle=\"none\", marker=\"o\", color=\"purple\", label=\"purple\")\n",
    "plt.plot(x, y, linestyle=\"solid\", marker=\"p\", color=\"black\")\n",
    "plt.legend(loc=6)\n",
    "plt.grid()\n",
    "plt.show()"
   ]
  },
  {
   "cell_type": "code",
   "execution_count": 3,
   "metadata": {},
   "outputs": [],
   "source": [
    "m = (y[0] - y[1]) / (x[0] - x[1])\n",
    "def funcion_w(m):\n",
    "    return (m*1)\n",
    "b = m*(-x1)+y1\n",
    "w = [funcion_w(m),-1]\n"
   ]
  },
  {
   "cell_type": "code",
   "execution_count": 4,
   "metadata": {},
   "outputs": [
    {
     "name": "stdout",
     "output_type": "stream",
     "text": [
      "Resultado recta\n",
      "Entradas= 1=[ 0 0 ] 2=[ 0 1 ] 3=[ -1 1 ] 4=[ 1 -1 ] 5=[ 2 -1 ] 6=[ 1 -2 ]\n",
      "Pendiente = 1.0\n",
      "Punto de corte con Y (bias)= -1.0\n",
      "Peso = 1.0 -1\n"
     ]
    }
   ],
   "source": [
    "print(\"Resultado recta\")\n",
    "print(\"Entradas= 1=[\",x_n[0],y_n[0],  \"] 2=[\",x_n[1],y_n[1],  \"] 3=[\",x_n[2],y_n[2], \"] 4=[\",x_a[0],y_a[0], \"] 5=[\",x_a[1],y_a[1], \"] 6=[\",x_a[2],y_a[2],\"]\")\n",
    "print(\"Pendiente =\",m)\n",
    "print(\"Punto de corte con Y (bias)=\",b)\n",
    "print(\"Peso =\",w[0],w[1])"
   ]
  },
  {
   "cell_type": "code",
   "execution_count": null,
   "metadata": {},
   "outputs": [],
   "source": []
  },
  {
   "cell_type": "code",
   "execution_count": null,
   "metadata": {},
   "outputs": [],
   "source": []
  },
  {
   "cell_type": "code",
   "execution_count": null,
   "metadata": {},
   "outputs": [],
   "source": []
  }
 ],
 "metadata": {
  "kernelspec": {
   "display_name": "Python 3",
   "language": "python",
   "name": "python3"
  },
  "language_info": {
   "codemirror_mode": {
    "name": "ipython",
    "version": 3
   },
   "file_extension": ".py",
   "mimetype": "text/x-python",
   "name": "python",
   "nbconvert_exporter": "python",
   "pygments_lexer": "ipython3",
   "version": "3.7.3"
  }
 },
 "nbformat": 4,
 "nbformat_minor": 4
}
